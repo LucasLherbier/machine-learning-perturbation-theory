{
 "cells": [
  {
   "cell_type": "markdown",
   "metadata": {},
   "source": [
    "# Use of ASE\n",
    "\n",
    "Author: [Fabien Pascale](https://www.researchgate.net/profile/Fabien_Pascale2)\n",
    "\n",
    "ASE is a set of tools and Python modules for setting up, manipulating,\n",
    "running, visualizing and analyzing atomistic simulations.\n",
    "Webpage: http://wiki.fysik.dtu.dk/ase\n",
    "\n",
    "## Creation of a specific virtual environment\n",
    "\n",
    "```\n",
    "virtualenv -p python3 venv_python3_ia\n",
    "```\n",
    "Loading the environment\n",
    "```\n",
    "source venv_python3_ia/bin/activate\n",
    "```\n",
    "\n",
    "## Installing the necessary packages with the *pip* command \n",
    "\n",
    "```\n",
    "pip install scipy\n",
    "```\n",
    "\n",
    "## Installation\n",
    "\n",
    "https://gitlab.com/ase/ase\n",
    "\n",
    "- Requirements:\n",
    "\n",
    "Python >= 3.5\n",
    "\n",
    "NumPy >= 1.10 (base N-dimensional array package)\n",
    "\n",
    "SciPy >= 0.17 (library for scientific computing)\n",
    "\n",
    "- Latest Version :\n",
    "\n",
    "Version 3.19.0\n",
    "\n",
    "16 December 2019: 3.19.0\n",
    "\n",
    "```\n",
    " pip install --upgrade git+https://gitlab.com/ase/ase.git@master\n",
    "  \n",
    "```"
   ]
  },
  {
   "cell_type": "markdown",
   "metadata": {},
   "source": [
    "# Visualization of the 42-atom primitive cell"
   ]
  },
  {
   "cell_type": "code",
   "execution_count": 1,
   "metadata": {},
   "outputs": [],
   "source": [
    "from ase import Atoms\n",
    "from ase.io import read, write\n",
    "import ase\n",
    "from ase.visualize import view\n",
    "\n",
    "atoms =ase.io.read(\"first_config.xyz\",format=\"xyz\")\n",
    "#view(atoms, viewer='x3d')"
   ]
  },
  {
   "cell_type": "code",
   "execution_count": 2,
   "metadata": {},
   "outputs": [],
   "source": [
    "view(atoms)"
   ]
  },
  {
   "cell_type": "markdown",
   "metadata": {},
   "source": [
    "# Visualization of the zeolite cage by repeating the primitive mesh in the 3 directions"
   ]
  },
  {
   "cell_type": "code",
   "execution_count": 6,
   "metadata": {
    "scrolled": true
   },
   "outputs": [
    {
     "data": {
      "application/vnd.jupyter.widget-view+json": {
       "model_id": "f1c67af1a0484bd48a2a5b66864a243e",
       "version_major": 2,
       "version_minor": 0
      },
      "text/plain": [
       "HBox(children=(NGLWidget(background='#fff'), VBox(children=(Dropdown(description='Show', options=('All', 'Si',…"
      ]
     },
     "metadata": {},
     "output_type": "display_data"
    }
   ],
   "source": [
    "#!pip3 install nglview\n",
    "from ase import Atoms\n",
    "from ase.io import read, write\n",
    "import ase\n",
    "from ase.visualize import view\n",
    "\n",
    "atoms =ase.io.read(\"first_config.xyz\",format=\"xyz\")\n",
    "\n",
    "#view(atoms, viewer='x3d')\n",
    "v=view(atoms.repeat(2), viewer='ngl')\n",
    "#v.custom_colors({'Al':'purple','Si':'yellow','O':'blue','C':'grey','H':'white'})\n",
    "v.view.clear_representations()\n",
    "v.view.center()\n",
    "v.view.background='#fff'\n",
    "v.view.add_unitcell()\n",
    "view.camera='orthographic'; \n",
    "v.view.add_ball_and_stick()\n",
    "v.view.update_spacefill(radiusType='covalent', scale=0.20)\n",
    "v.view.parameters=dict(clipDist=-100);\n",
    "v"
   ]
  },
  {
   "cell_type": "markdown",
   "metadata": {},
   "source": [
    "# Visualization of the trajectory of molecular dynamic"
   ]
  },
  {
   "cell_type": "code",
   "execution_count": 9,
   "metadata": {},
   "outputs": [],
   "source": [
    "# Read the `MLPT.1900` file and use the MD read function. See the ASE site on visualize"
   ]
  },
  {
   "cell_type": "markdown",
   "metadata": {},
   "source": [
    "# Display of the information available in the *Atoms* class (mesh parameters, atomic positions and numbers of the atoms...)"
   ]
  },
  {
   "cell_type": "code",
   "execution_count": 7,
   "metadata": {},
   "outputs": [
    {
     "name": "stdout",
     "output_type": "stream",
     "text": [
      "\n",
      "\n",
      "info\n",
      " {'energy': -311.78921226, 'stress': array([[ 0.01822526, -0.00025993,  0.00562048],\n",
      "       [-0.00025993,  0.02032353, -0.00564001],\n",
      "       [ 0.00562048, -0.00564001,  0.02122524]]), 'free_energy': -311.78921226}\n",
      "\n",
      "\n",
      "cell\n",
      " Cell([[7.94875485, -4.997e-05, 4.90143315], [-3.97456407, 6.88389431, 4.90125479], [-3.97443877, -6.88377714, 4.90124571]])\n",
      "\n",
      "\n",
      "Periodic Bounding conditions :\n",
      " [ True  True  True]\n",
      "\n",
      "\n",
      "Positions\n",
      " [[ 2.06431498  0.32946941  6.6461922 ]\n",
      " [ 0.45354344 -2.90930619  4.56610161]\n",
      " [ 0.07848447 -2.05679382  5.01956828]\n",
      " [ 0.05888788 -3.80077473  5.09647066]\n",
      " [ 0.09200188 -2.92158328  3.48958824]\n",
      " [ 1.52802207 -2.91033876  4.58321789]\n",
      " [ 1.72699016 -1.20484931  4.84686198]\n",
      " [ 1.88028602 -1.16309027 12.36146257]\n",
      " [-1.03151502  5.09719259  4.83865887]\n",
      " [-4.30058622 -3.25193201  7.7401131 ]\n",
      " [-3.47592729 -0.74026586  7.74991547]\n",
      " [-2.10581263  0.33979013  9.8292381 ]\n",
      " [-1.85151994  1.49711895  2.59013662]\n",
      " [-1.73382952  1.00336303  7.25304292]\n",
      " [-0.75448625  1.90488804  4.95302885]\n",
      " [-0.97431431  3.55483559  6.99970032]\n",
      " [-1.02577504 -1.52581922  8.31352951]\n",
      " [-0.49329228 -5.75631287  8.23293381]\n",
      " [-0.69775122 -0.974423   11.78752926]\n",
      " [ 0.7231232   1.34404389  2.84689008]\n",
      " [ 0.68921141  5.58748522  6.8904596 ]\n",
      " [ 0.9265834   1.5945559   7.01904352]\n",
      " [ 0.75959613 -3.42457137  7.7149763 ]\n",
      " [ 1.4383501  -4.83312706  9.87547877]\n",
      " [ 1.01080898 -1.85608125  9.87957628]\n",
      " [ 1.57382865 -1.15195264  7.35185998]\n",
      " [ 1.86711135 -5.7278186   7.36528483]\n",
      " [ 1.68568664 -0.16879385  4.79001329]\n",
      " [-1.83517126  5.92656144  7.21160751]\n",
      " [ 3.61261994  1.00071559  6.62440041]\n",
      " [ 4.42309591  3.48779943  7.02984321]\n",
      " [-4.66967828 -1.69133321  8.14648853]\n",
      " [-2.05231094 -0.2267353   8.3389262 ]\n",
      " [-2.08656253 -0.23211444 11.38007033]\n",
      " [-0.62500295  2.00551581  6.59555062]\n",
      " [-0.59467299  2.13973532  3.35522277]\n",
      " [-0.77444445  5.06500454  6.40894072]\n",
      " [ 0.92419536 -4.92860997  8.36025315]\n",
      " [ 0.55552101 -1.92058364  8.32016743]\n",
      " [ 0.64906466 -1.83623623 11.48295158]\n",
      " [ 1.99283152  0.39869732  3.20398901]\n",
      " [ 4.85579304  1.95697741  6.49060853]]\n",
      "\n",
      "\n",
      "Symbols\n",
      " AlCH5O24Si11\n",
      "\n",
      "\n",
      "atomic numbers\n",
      " <bound method Atoms.get_atomic_numbers of Atoms(symbols='AlCH5O24Si11', pbc=True, cell=[[7.94875485, -4.997e-05, 4.90143315], [-3.97456407, 6.88389431, 4.90125479], [-3.97443877, -6.88377714, 4.90124571]], forces=..., calculator=SinglePointCalculator(...))>\n"
     ]
    }
   ],
   "source": [
    "print(\"\\n\\ninfo\\n\",atoms.info)\n",
    "\n",
    "print(\"\\n\\ncell\\n\",atoms.get_cell())\n",
    "\n",
    "print(\"\\n\\nPeriodic Bounding conditions :\\n\",atoms.get_pbc())\n",
    "\n",
    "print(\"\\n\\nPositions\\n\",atoms.get_positions())\n",
    "print(\"\\n\\nSymbols\\n\",atoms.symbols)\n",
    "print(\"\\n\\natomic numbers\\n\",atoms.get_atomic_numbers)\n",
    "\n",
    "#print(\"\\n\\nall_distances\\n\",atoms.get_all_distances)"
   ]
  },
  {
   "cell_type": "markdown",
   "metadata": {},
   "source": [
    "# Finding the neighbors of an atom\n",
    "\n",
    "https://wiki.fysik.dtu.dk/asap/Neighbor%20lists"
   ]
  },
  {
   "cell_type": "code",
   "execution_count": 8,
   "metadata": {},
   "outputs": [
    {
     "name": "stdout",
     "output_type": "stream",
     "text": [
      "42\n",
      "[0, 0, 0, 0, 0, 0, 0, 0, 0, 0, 0, 0, 4.0, 0, 0, 0, 0, 0, 0, 0, 0, 0, 0, 0, 0, 0, 0, 0, 0, 0, 0, 0, 0, 0, 0, 0, 0, 0, 0, 0, 0, 0]\n",
      "\n",
      "Indices :\n",
      " [27 40 19 35 14 34  0  7  8  9 23 24 29 30 31 37 39 41]\n",
      "\n",
      "Recherche des voisins de l'atome :\n",
      " 12   O [[ 0  0  0]\n",
      " [ 0  0  0]\n",
      " [ 0  0  0]\n",
      " [ 0  0  0]\n",
      " [ 0  0  0]\n",
      " [ 0  0  0]\n",
      " [-1  0  0]\n",
      " [-1  0 -1]\n",
      " [ 0  0  0]\n",
      " [ 0  0 -1]\n",
      " [-1  0 -1]\n",
      " [-1  0 -1]\n",
      " [-1  0  0]\n",
      " [-1  0  0]\n",
      " [ 0  0 -1]\n",
      " [-1  0 -1]\n",
      " [-1  0 -1]\n",
      " [-1  0  0]] [-1.85151994  1.49711895  2.59013662]\n",
      "\n",
      "\n",
      "27   O   4.486262721911126 [0 0 0] [ 1.68568664 -0.16879385  4.79001329]\n",
      "40   Si   4.0450442496918 [0 0 0] [1.99283152 0.39869732 3.20398901]\n",
      "19   O   2.591937810126824 [0 0 0] [0.7231232  1.34404389 2.84689008]\n",
      "35   Si   1.6056079445612188 [0 0 0] [-0.59467299  2.13973532  3.35522277]\n",
      "14   O   2.6368576446878613 [0 0 0] [-0.75448625  1.90488804  4.95302885]\n",
      "34   Si   4.219733712618904 [0 0 0] [-0.62500295  2.00551581  6.59555062]\n",
      "0   Al   4.282802254776013 [-1  0  0] [-5.88443987  0.32951938  1.74475905]\n",
      "7   O   4.23069051621552 [-1  0 -1] [-2.09403006  5.72073684  2.55878371]\n",
      "8   O   4.323053387478821 [0 0 0] [-1.03151502  5.09719259  4.83865887]\n",
      "9   O   2.635466579710505 [ 0  0 -1] [-0.32614745  3.63184513  2.83886739]\n",
      "23   O   2.6668150531040795 [-1  0 -1] [-2.53596598  2.05070005  0.07279991]\n",
      "24   O   4.47417177788668 [-1  0 -1] [-2.9635071   5.02774586  0.07689742]\n",
      "29   O   2.677995693767151 [-1  0  0] [-4.33613491  1.00076556  1.72296726]\n",
      "30   O   2.6417684478560264 [-1  0  0] [-3.52565894  3.4878494   2.12841006]\n",
      "31   Si   3.9270313563672277 [ 0  0 -1] [-0.69523951  5.19244393  3.24524282]\n",
      "37   Si   4.231791196034242 [-1  0 -1] [-3.05012072  1.95521714 -1.44242571]\n",
      "39   Si   3.950390830966492 [-1  0 -1] [-3.32525142  5.04759088  1.68027272]\n",
      "41   Si   1.6597039147259065 [-1  0  0] [-3.09296181  1.95702738  1.58917538]\n"
     ]
    }
   ],
   "source": [
    "from ase.neighborlist import NeighborList\n",
    "\n",
    "from ase.neighborlist import natural_cutoffs\n",
    "import numpy as np\n",
    "cutoffs=natural_cutoffs(atoms)\n",
    "#cutoffs={(1, 6): 1.1, (1, 1): 1.0, (‘C’, ‘C’): 1.85\n",
    "center=12\n",
    "print(len(cutoffs))\n",
    "cutoffs= [0]*42\n",
    "cutoffs[center]=4.0\n",
    "print(cutoffs)\n",
    "\n",
    "nblist = NeighborList(cutoffs, self_interaction=False,bothways=True)\n",
    "nblist.update(atoms)\n",
    "\n",
    "indices, offsets = nblist.get_neighbors(center)\n",
    "print(\"\\nIndices :\\n\",indices)\n",
    "print(\"\\nRecherche des voisins de l'atome :\\n\",center,\" \",atoms[center].symbol,offsets,atoms.positions[center])\n",
    "print(\"\\n\")\n",
    "for i, offset in zip(indices, offsets):\n",
    "    print(i,\" \",atoms[i].symbol,\" \",\n",
    "          #atoms.get_distances(center,i),\n",
    "          np.linalg.norm(atoms.positions[center] - (atoms.positions[i] + offset @ atoms.get_cell())),\n",
    "          offset,atoms.positions[i] + offset @ atoms.get_cell())\n",
    "\n",
    "#print(\"\\n\\nListe des atomes :\\n\")\n",
    "#for i in range(0,atoms.get_number_of_atoms()):\n",
    "#    print(i,\" \",atoms[i].symbol,atoms.positions[i])\n"
   ]
  }
 ],
 "metadata": {
  "kernelspec": {
   "display_name": "Python 3",
   "language": "python",
   "name": "python3"
  },
  "language_info": {
   "codemirror_mode": {
    "name": "ipython",
    "version": 3
   },
   "file_extension": ".py",
   "mimetype": "text/x-python",
   "name": "python",
   "nbconvert_exporter": "python",
   "pygments_lexer": "ipython3",
   "version": "3.7.6"
  },
  "toc": {
   "base_numbering": 1,
   "nav_menu": {},
   "number_sections": true,
   "sideBar": true,
   "skip_h1_title": false,
   "title_cell": "Table of Contents",
   "title_sidebar": "Contents",
   "toc_cell": false,
   "toc_position": {
    "height": "calc(100% - 180px)",
    "left": "10px",
    "top": "150px",
    "width": "284.433px"
   },
   "toc_section_display": true,
   "toc_window_display": true
  },
  "varInspector": {
   "cols": {
    "lenName": 16,
    "lenType": 16,
    "lenVar": 40
   },
   "kernels_config": {
    "python": {
     "delete_cmd_postfix": "",
     "delete_cmd_prefix": "del ",
     "library": "var_list.py",
     "varRefreshCmd": "print(var_dic_list())"
    },
    "r": {
     "delete_cmd_postfix": ") ",
     "delete_cmd_prefix": "rm(",
     "library": "var_list.r",
     "varRefreshCmd": "cat(var_dic_list()) "
    }
   },
   "types_to_exclude": [
    "module",
    "function",
    "builtin_function_or_method",
    "instance",
    "_Feature"
   ],
   "window_display": false
  }
 },
 "nbformat": 4,
 "nbformat_minor": 2
}
